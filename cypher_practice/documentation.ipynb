{
  "nbformat": 4,
  "nbformat_minor": 0,
  "metadata": {
    "colab": {
      "name": "documentation.ipynb",
      "provenance": [],
      "collapsed_sections": []
    },
    "kernelspec": {
      "name": "python3",
      "display_name": "Python 3"
    },
    "language_info": {
      "name": "python"
    }
  },
  "cells": [
    {
      "cell_type": "markdown",
      "source": [
        "###These files are provided by the Neo4j AuraDB free instance, under Connect with Python chosen out of the provided languages. My intent of recreating them was to get a feel for all of the requirements of a neo4j program, including uri and driver connection, authentication, incorporating cypher, and more."
      ],
      "metadata": {
        "id": "G-AQzV_5alji"
      }
    },
    {
      "cell_type": "markdown",
      "source": [
        "##neo4j_practice.py"
      ],
      "metadata": {
        "id": "eQBJlrqkb8x5"
      }
    },
    {
      "cell_type": "markdown",
      "source": [
        "The **\\_\\_init__** function defines the driver using the uri and authentication provided as arguments. The uri connection link was provided by the AuraDB free instance, and the authentication was provided when I created my AuraDB account. \n",
        "```\n",
        "self.driver = GraphDatabase.driver(uri, auth=(user, password))\n",
        "```\n",
        "\n",
        "You must remember to close the driver after use, so a **close** function was created to make this step simple. \n",
        "```\n",
        "self.driver.close()\n",
        "```\n",
        "\n",
        "The **main** function initializes the uri, username, and password, here my password is located in a separate file located on my personal machine. It then calls the App class to connect to the uri and driver. Multiple functions, explained later in the notebook, were also called for practice, and finally the driver was closed. \n",
        "```\n",
        "app = App(uri, user, password)\n",
        "app.find_person(\"Katie\")\n",
        "app.close()\n",
        "```\n",
        "\n",
        "\n",
        "\n",
        "\n",
        "\n"
      ],
      "metadata": {
        "id": "fvr2OwTgYdM4"
      }
    },
    {
      "cell_type": "markdown",
      "source": [
        "####The next set of functions are basic examples of those that could be found in an API. They showcase how to incorporate Cypher queries into a python program. \n",
        "\n"
      ],
      "metadata": {
        "id": "19f_znbEZX1u"
      }
    },
    {
      "cell_type": "markdown",
      "source": [
        "**create_and_return_friendship** starts a driver session object and writes to the transaction which allows the driver to handle errors and retries. It calls to the helper function **\\_create_and_return_friendship** that holds the query, runs it, and returns the result. The original function prints the resulting message telling a relationship between the two provided Persons was created. \n",
        "\n",
        "\n",
        "\n",
        "```\n",
        "    def create_friendship(self, person1_name, person2_name):\n",
        "        with self.driver.session() as session:\n",
        "            # Write transactions allow the driver to handle retries and transient errors\n",
        "            result = session.write_transaction(\n",
        "                self._create_and_return_friendship, person1_name, person2_name)\n",
        "            for row in result:\n",
        "                print(\"Created friendship between: {p1}, {p2}\".format(p1=row['p1'], p2=row['p2']))\n",
        "```\n",
        "\n",
        "\n",
        "\n",
        "```\n",
        "    @staticmethod\n",
        "    def _create_and_return_friendship(tx, person1_name, person2_name):\n",
        "        query = (\n",
        "            \"CREATE (p1:Person { name: $person1_name }) \"\n",
        "            \"CREATE (p2:Person { name: $person2_name }) \"\n",
        "            \"CREATE (p1)-[:KNOWS]->(p2) \"\n",
        "            \"RETURN p1, p2\"\n",
        "        )\n",
        "        result = tx.run(query, person1_name=person1_name, person2_name=person2_name)\n",
        "        try:\n",
        "            return [{\"p1\": row[\"p1\"][\"name\"], \"p2\": row[\"p2\"][\"name\"]}\n",
        "                    for row in result]\n",
        "        # Capture any errors along with the query and data for traceability\n",
        "        except ServiceUnavailable as exception:\n",
        "            logging.error(\"{query} raised an error: \\n {exception}\".format(\n",
        "                query=query, exception=exception))\n",
        "            raise\n",
        "```\n",
        "\n",
        "\n",
        "\n"
      ],
      "metadata": {
        "id": "PSYgM_uUeZB1"
      }
    },
    {
      "cell_type": "markdown",
      "source": [
        "**find_person** holds the same structure as the function described above, it creates a driver session, calls its helper function **\\_find_and_return_person** who holds the query, runs it, and returns the resulting information, and the originial function again prints to respective message if the Person was found. "
      ],
      "metadata": {
        "id": "LGaILo86eZt_"
      }
    },
    {
      "cell_type": "markdown",
      "source": [
        "**remove_all_persons_and_relationships**, again, holds the same structure by creating driver session, calling helper function **\\_find_and_remove_all** which runs the corresponding query and returns the information. The first function then prints the message that the person and its relationships were removed. "
      ],
      "metadata": {
        "id": "9DeypAL8evZP"
      }
    },
    {
      "cell_type": "markdown",
      "source": [
        "##with_arguments.py"
      ],
      "metadata": {
        "id": "jMSR9DdOfLGn"
      }
    },
    {
      "cell_type": "markdown",
      "source": [
        "This file holds the same architecture as the previous file. The only difference is that the user can provide arguments when running the program. These arguments are used to decipher between dealing with Movie nodes or Person nodes. Movie and Person are the *label* argument of the node, and the name of the person or the title of the movie is the *name* argument of the node. \n",
        "\n",
        "A **parse_all_args function** was created to parse the users arguments, and in **main**, the App class and its functions are all called with the name and label arguments passed to them. \n",
        "\n",
        "\n",
        "\n",
        "```\n",
        "    name = args.name\n",
        "    label = args.label\n",
        "    app = App(uri, user, password, name, label)\n",
        "    app.find_node(label, name)\n",
        "```\n",
        "\n",
        "\n",
        "\n",
        "```\n",
        "    #example run: ./with_arguments.py -label Person -name Katie\n",
        "```\n",
        "\n"
      ],
      "metadata": {
        "id": "Agicxpvof4EA"
      }
    },
    {
      "cell_type": "markdown",
      "source": [
        "Here is an example of the **create_node** function now that it uses arguments.\n",
        "\n",
        "\n",
        "\n",
        "```\n",
        "    def create_node(self, label, name):\n",
        "        with self.driver.session() as session:\n",
        "            result = session.read_transaction(self._create_and_return_node, label, name)\n",
        "            for row in result:\n",
        "                print(\"Created \", label, \": {row}\".format(row=row))\n",
        "```\n",
        "\n",
        "\n",
        "\n",
        "\n",
        "```\n",
        "    @staticmethod\n",
        "    def _create_and_return_node(tx, label, name):\n",
        "        if label == 'Person':\n",
        "            query = (\n",
        "                \"CREATE (p:Person {name: $name})\"\n",
        "                \"RETURN p.name AS name\"\n",
        "            )\n",
        "        if label == 'Movie':\n",
        "            query = (\n",
        "                \"CREATE (m:Movie {title: $name})\"\n",
        "                \"RETURN m.title AS name\"\n",
        "            )\n",
        "        result = tx.run(query, name=name)\n",
        "        return [row[\"name\"] for row in result]\n",
        "\n",
        "    def find_node(self, label, name):\n",
        "        with self.driver.session() as session:\n",
        "            result = session.read_transaction(self._find_and_return_node, label, name)\n",
        "            if len(result) == 0:\n",
        "                print(\"Could not find \", label,\": \", name)\n",
        "            else:\n",
        "                for row in result:\n",
        "                   print(\"Found \", label,\": {row}\".format(row=row))\n",
        "```\n",
        "\n"
      ],
      "metadata": {
        "id": "qNfYElFTgkBM"
      }
    }
  ]
}